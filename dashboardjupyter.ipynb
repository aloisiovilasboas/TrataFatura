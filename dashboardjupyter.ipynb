{
 "cells": [
  {
   "cell_type": "code",
   "execution_count": null,
   "metadata": {},
   "outputs": [],
   "source": [
    "import pandas as pd\n",
    "import xml.etree.ElementTree as et \n",
    "\n",
    "etree = et.parse('templatefile.xml')\n",
    "eroot = etree.getroot()\n",
    "\n",
    "transactions = eroot[1][0][2][2]\n",
    "\n",
    "def transform_xml(xmlroot):\n",
    "    transacoes = []\n",
    "    for child in xmlroot:\n",
    "        if child.tag == \"STMTTRN\":\n",
    "            transacao={}\n",
    "            for tagtransacao in child:\n",
    "                transacao.update({tagtransacao.tag: tagtransacao.text})\n",
    "            transacoes.append(transacao)\n",
    "    \n",
    "    return transacoes\n",
    "\n",
    "transacoes = transform_xml(transactions)\n",
    "tr_df = pd.DataFrame(transacoes)\n",
    "\n",
    "tr_df\n",
    "\n"
   ]
  },
  {
   "cell_type": "code",
   "execution_count": 7,
   "metadata": {},
   "outputs": [
    {
     "data": {
      "text/html": [
       "\n",
       "        <iframe\n",
       "            width=\"100%\"\n",
       "            height=\"650\"\n",
       "            src=\"http://127.0.0.1:8050/\"\n",
       "            frameborder=\"0\"\n",
       "            allowfullscreen\n",
       "            \n",
       "        ></iframe>\n",
       "        "
      ],
      "text/plain": [
       "<IPython.lib.display.IFrame at 0x1708b47bdc0>"
      ]
     },
     "metadata": {},
     "output_type": "display_data"
    }
   ],
   "source": [
    "from dash import Dash, dash_table\n",
    "import pandas as pd\n",
    "\n",
    "df = pd.read_csv('https://raw.githubusercontent.com/plotly/datasets/master/solar.csv')\n",
    "\n",
    "app = Dash(__name__)\n",
    "\n",
    "app.layout = dash_table.DataTable(\n",
    "    df.to_dict('records'),\n",
    "    [{\"name\": i, \"id\": i} for i in df.columns]\n",
    ")\n",
    "\n",
    "if __name__ == '__main__':\n",
    "    app.run(debug=True)"
   ]
  }
 ],
 "metadata": {
  "kernelspec": {
   "display_name": "pandas2023",
   "language": "python",
   "name": "python3"
  },
  "language_info": {
   "codemirror_mode": {
    "name": "ipython",
    "version": 3
   },
   "file_extension": ".py",
   "mimetype": "text/x-python",
   "name": "python",
   "nbconvert_exporter": "python",
   "pygments_lexer": "ipython3",
   "version": "3.9.18"
  },
  "orig_nbformat": 4
 },
 "nbformat": 4,
 "nbformat_minor": 2
}
